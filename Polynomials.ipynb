{
  "nbformat": 4,
  "nbformat_minor": 0,
  "metadata": {
    "colab": {
      "provenance": [],
      "authorship_tag": "ABX9TyO2eOSh58ac8RmzLi27rzAT",
      "include_colab_link": true
    },
    "kernelspec": {
      "name": "python3",
      "display_name": "Python 3"
    },
    "language_info": {
      "name": "python"
    }
  },
  "cells": [
    {
      "cell_type": "markdown",
      "metadata": {
        "id": "view-in-github",
        "colab_type": "text"
      },
      "source": [
        "<a href=\"https://colab.research.google.com/github/manisha7-ma/HackerRank-Python-Edition/blob/main/Polynomials.ipynb\" target=\"_parent\"><img src=\"https://colab.research.google.com/assets/colab-badge.svg\" alt=\"Open In Colab\"/></a>"
      ]
    },
    {
      "cell_type": "code",
      "execution_count": null,
      "metadata": {
        "id": "1f8VpNSkGTMJ"
      },
      "outputs": [],
      "source": []
    },
    {
      "cell_type": "markdown",
      "source": [
        "#numpy.poly()\n",
        "What this means:\n",
        "\n",
        "This is the polynomial:\n",
        "\n",
        "(\n",
        "𝑥\n",
        "+\n",
        "1\n",
        ")\n",
        "(\n",
        "𝑥\n",
        "−\n",
        "1\n",
        ")\n",
        "(\n",
        "𝑥\n",
        "−\n",
        "1\n",
        ")\n",
        "(\n",
        "𝑥\n",
        "−\n",
        "10\n",
        ")\n",
        "(x+1)(x−1)(x−1)(x−10)\n",
        "\n",
        "Multiply all that out, you get:\n",
        "\n",
        "𝑥\n",
        "4\n",
        "−\n",
        "11\n",
        "𝑥\n",
        "3\n",
        "+\n",
        "9\n",
        "𝑥\n",
        "2\n",
        "+\n",
        "11\n",
        "𝑥\n",
        "−\n",
        "10\n",
        "x\n",
        "4\n",
        " −11x\n",
        "3\n",
        " +9x\n",
        "2\n",
        " +11x−10\n",
        "\n",
        "So poly() is like saying: “Give me the polynomial that has these roots.”"
      ],
      "metadata": {
        "id": "R9QzXT89GVn6"
      }
    },
    {
      "cell_type": "code",
      "source": [],
      "metadata": {
        "id": "yV0jMx5XGYer"
      },
      "execution_count": null,
      "outputs": []
    },
    {
      "cell_type": "markdown",
      "source": [
        "#numpy.roots()\n",
        "It gives the roots of a polynomial from its coefficients.\n",
        "\n",
        "\n",
        "```\n",
        "print(np.roots([1, 0, -1]))  # x^2 - 1\n",
        "#Output\n",
        "[-1.  1.]\n",
        "\n",
        "\n",
        "```\n",
        "That means:\n",
        "\n",
        "𝑥\n",
        "2\n",
        "−\n",
        "1\n",
        "=\n",
        "(\n",
        "𝑥\n",
        "−\n",
        "1\n",
        ")\n",
        "(\n",
        "𝑥\n",
        "+\n",
        "1\n",
        ")\n",
        "x\n",
        "2\n",
        " −1=(x−1)(x+1)\n",
        "\n"
      ],
      "metadata": {
        "id": "pKfxJ72GGwzj"
      }
    },
    {
      "cell_type": "code",
      "source": [],
      "metadata": {
        "id": "_WjEhOr6GxTS"
      },
      "execution_count": null,
      "outputs": []
    },
    {
      "cell_type": "markdown",
      "source": [
        "\n",
        "#Integration Results  (numpy.polyint())\n",
        "Returns the antiderivative of a polynomial (adds +1 to each exponent, divides coefficient by new power).\n",
        "\n",
        "\n",
        "```\n",
        "print(np.polyint([1, 1, 1]))  # represents: x^2 + x + 1\n",
        "[0.333..., 0.5, 1, 0]\n",
        "\n",
        "\n",
        "```\n",
        "hat means the integral is:\n",
        "\n",
        "1\n",
        "3\n",
        "𝑥\n",
        "3\n",
        "+\n",
        "1\n",
        "2\n",
        "𝑥\n",
        "2\n",
        "+\n",
        "𝑥\n",
        "+\n",
        "𝐶\n",
        "3\n",
        "1\n",
        "​\n",
        " x\n",
        "3\n",
        " +\n",
        "2\n",
        "1\n",
        "​\n",
        " x\n",
        "2\n",
        " +x+C\n",
        "(NumPy assumes the constant of integration C = 0 by default)\n"
      ],
      "metadata": {
        "id": "-nWR6h-vHWw5"
      }
    },
    {
      "cell_type": "code",
      "source": [],
      "metadata": {
        "id": "sai3tulQHXKk"
      },
      "execution_count": null,
      "outputs": []
    },
    {
      "cell_type": "markdown",
      "source": [
        "#numpy.polyder()\n",
        "Returns the derivative of the polynomial.\n",
        "\n",
        "\n",
        "\n",
        "```\n",
        "print(np.polyder([1, 1, 1, 1]))  # x^3 + x^2 + x + 1\n",
        "[3 2 1]\n",
        "\n",
        "\n",
        "```\n",
        "This is:\n",
        "\n",
        "𝑑\n",
        "𝑑\n",
        "𝑥\n",
        "(\n",
        "𝑥\n",
        "3\n",
        "+\n",
        "𝑥\n",
        "2\n",
        "+\n",
        "𝑥\n",
        "+\n",
        "1\n",
        ")\n",
        "=\n",
        "3\n",
        "𝑥\n",
        "2\n",
        "+\n",
        "2\n",
        "𝑥\n",
        "+\n",
        "1\n",
        "dx\n",
        "d\n",
        "​\n",
        " (x\n",
        "3\n",
        " +x\n",
        "2\n",
        " +x+1)=3x\n",
        "2\n",
        " +2x+1\n",
        "\n",
        "\n",
        "\n"
      ],
      "metadata": {
        "id": "w7ed98jcIDYK"
      }
    },
    {
      "cell_type": "code",
      "source": [],
      "metadata": {
        "id": "UGyndTFUIRy_"
      },
      "execution_count": null,
      "outputs": []
    },
    {
      "cell_type": "markdown",
      "source": [
        "#numpy.polyval()\n",
        "Evaluate a polynomial at a certain x-value.\n",
        "\n",
        "\n",
        "```\n",
        "print(np.polyval([1, -2, 0, 2], 4))  # 1x^3 -2x^2 + 0x + 2\n",
        "Output :34\n",
        "\n",
        "```\n",
        "So:\n",
        "\n",
        "1\n",
        "(\n",
        "4\n",
        "3\n",
        ")\n",
        "−\n",
        "2\n",
        "(\n",
        "4\n",
        "2\n",
        ")\n",
        "+\n",
        "0\n",
        "+\n",
        "2\n",
        "=\n",
        "64\n",
        "−\n",
        "32\n",
        "+\n",
        "2\n",
        "=\n",
        "34\n",
        "1(4\n",
        "3\n",
        " )−2(4\n",
        "2\n",
        " )+0+2=64−32+2=34\n",
        "\n",
        "\n",
        "\n"
      ],
      "metadata": {
        "id": "KDZfk9i9IWr7"
      }
    },
    {
      "cell_type": "code",
      "source": [],
      "metadata": {
        "id": "kk8-olaKIizI"
      },
      "execution_count": null,
      "outputs": []
    },
    {
      "cell_type": "markdown",
      "source": [
        "#numpy.polyfit()\n",
        "Finds the best-fitting polynomial (e.g., a line, parabola, etc.) through a set of points using least squares.\n",
        "\n",
        "\n",
        "```\n",
        "x = [0, 1, -1, 2, -2]\n",
        "y = [0, 1, 1, 4, 4]\n",
        "print(np.polyfit(x, y, 2))  # Fit a degree 2 polynomial\n",
        "\n",
        "Output\n",
        "[ 1.00000000e+00  0.00000000e+00 -3.97e-16 ]\n",
        "\n",
        "\n",
        "```\n",
        "This means the best fit is:\n",
        "\n",
        "𝑦\n",
        "=\n",
        "𝑥\n",
        "2\n",
        "y=x\n",
        "2\n",
        "\n",
        "(Since 3.97e-16 is nearly zero)\n",
        "\n",
        "\n"
      ],
      "metadata": {
        "id": "ojph16N6Ij1Z"
      }
    },
    {
      "cell_type": "code",
      "source": [],
      "metadata": {
        "id": "x3C6vA_-Iy6S"
      },
      "execution_count": null,
      "outputs": []
    }
  ]
}